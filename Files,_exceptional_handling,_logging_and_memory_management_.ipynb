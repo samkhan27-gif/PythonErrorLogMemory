{
  "cells": [
    {
      "cell_type": "markdown",
      "metadata": {
        "id": "_bxlg1X0RBap"
      },
      "source": [
        "# Assignment- 5 : **Files**, exceptional handling, logging and memory management"
      ]
    },
    {
      "cell_type": "markdown",
      "metadata": {
        "id": "oWAuVc5HRThw"
      },
      "source": [
        "## Q1 . What is the difference between interpreted and compiled languages ?\n",
        "\n",
        "#### Ans : Interpreted languages execute code line by line via an interpreter at runtime, while compiled languages translate the entire program into machine code beforehand and then run the resulting binary. Interpreted setups typically trade raw speed for flexibility and ease of iteration; compiled setups generally deliver faster execution and stronger compile-time checks."
      ]
    },
    {
      "cell_type": "markdown",
      "metadata": {
        "id": "Qmnx6FuuOJxm"
      },
      "source": [
        "## Q2 . What is exception handling in Python ?\n",
        "\n",
        "#### Ans : Exception handling in Python is the mechanism to detect and respond to runtime errors (exceptions) so a program doesn't crash and can either recover or fail gracefully. It uses try, except, else, finally, and raise to isolate error-prone code, handle specific errors, run success-path logic, guarantee cleanup, and trigger custom errors."
      ]
    },
    {
      "cell_type": "markdown",
      "metadata": {
        "id": "XcizCdJmPbdf"
      },
      "source": [
        "## Q3 . What is the purpose of the finally block in exception handling ?\n",
        "#### Ans : The finally block guarantees that designated cleanup code runs no matter what—whether the try block succeeds, an exception is raised and handled, or an exception propagates unhandled. It is typically used to release resources, close files or network connections, unlock mutexes, and perform last-step actions that must not be skipped."
      ]
    },
    {
      "cell_type": "markdown",
      "metadata": {
        "id": "UU9tzN8qOv8P"
      },
      "source": [
        "## Q4 . What is logging in Python ?\n",
        "#### Ans : Logging in Python is the practice of recording events from a running program to help with debugging, monitoring, and auditing, using standardized log levels like DEBUG, INFO, WARNING, ERROR, and CRITICAL with configurable outputs and formats. It is provided by the standard logging module, which supports loggers, handlers, formatters, and propagation so messages can be routed to console, files, or external systems."
      ]
    },
    {
      "cell_type": "markdown",
      "metadata": {
        "id": "fLD8z6W2PSCp"
      },
      "source": [
        "## Q5 . What is the significance of the __del__ method in Python ?\n",
        "\n",
        "#### Ans : The del method is a finalizer (destructor) that Python may call when an object is about to be destroyed, giving the object a last chance to run cleanup code as its references drop to zero. Its timing is non-deterministic, so it should be used sparingly and not relied upon for critical resource management.\n",
        "> ### What it does\n",
        "\n",
        ">>- Allows defining cleanup actions right before the object is reclaimed by the garbage collector, such as releasing OS-level resources tied to the object.\n",
        "\n",
        ">>- Is invoked based on object lifetime and reference counting/GC, not strictly when an object goes out of scope.\n"
      ]
    },
    {
      "cell_type": "markdown",
      "metadata": {
        "id": "cAdyRMdJRjts"
      },
      "source": [
        "## Q6 . What is the difference between import and from ... import in Python ?\n",
        "\n",
        "#### Ans : In Python, import brings a module into the namespace as a single name, whereas from ... import brings selected names from a module directly into the current namespace. This affects how names are referenced, potential name collisions, readability, and configuration like aliasing.\n",
        "\n",
        ">### Core difference :\n",
        "\n",
        ">- import module: access members with the module prefix, e.g., math.sqrt.\n",
        "\n",
        ">- from module import name: access imported names directly, e.g., sqrt.\n",
        "\n"
      ]
    },
    {
      "cell_type": "markdown",
      "metadata": {
        "id": "_0HEskdlSfTc"
      },
      "source": [
        "## Q7 . How can you handle multiple exceptions in Python ?\n",
        "\n",
        "Ans : Multiple exceptions can be handled by grouping related errors in one except, using separate except blocks for different actions, catching a common base class, and (in Python 3.11+) using ExceptionGroup with except* when multiple errors happen together.\n",
        "\n",
        ">### Same action for many\n",
        "\n",
        ">- Put exception types in a tuple to run the same handler:\n",
        "\n",
        ">### Separate handlers\n",
        "\n",
        ">- Use distinct except blocks when actions differ:\n",
        "\n",
        ">### Exception hierarchy\n",
        "\n",
        ">- Catch a base class to cover related errors, but be specific to avoid masking bugs:\n",
        "\n",
        ">### Python 3.11: ExceptionGroup and except*\n",
        "\n",
        ">- Handle multiple concurrent exceptions raised together (e.g., from parallel tasks):\n",
        "\n",
        ">> ### Best practices\n",
        "\n",
        "> - Keep try blocks small and catch the most specific exceptions feasible.\n",
        "\n",
        "> - Log with stack trace when appropriate (e.g., logger.exception in an except block).\n",
        "\n",
        "> - Avoid bare except; if a catch-all is needed, use except Exception as e and consider re-raising after logging.\n",
        "\n",
        "> - Use else for success-path logic and finally or context managers for guaranteed cleanup.\n",
        "\n",
        "\n"
      ]
    },
    {
      "cell_type": "markdown",
      "metadata": {
        "id": "w5j6kncMW-P7"
      },
      "source": [
        "## Q8 . What is the purpose of the with statement when handling files in Python ?\n",
        "\n",
        "#### Ans : The `with` statement in Python is used to simplify the process of handling files and ensure that a file is automatically closed after its suite of code has been executed, even if errors occur. It is part of Python's context management protocol."
      ]
    },
    {
      "cell_type": "markdown",
      "metadata": {
        "id": "DKuWQcNfX7DV"
      },
      "source": [
        "## Q9 . What is the difference between multithreading and multiprocessing ?\n",
        "\n",
        " #### Ans : Multithreading and multiprocessing are both ways to achieve concurrency in a program, allowing multiple tasks to run at the same time. The primary difference lies in how they manage these tasks and their relationship to system resources. Multithreading uses threads within a single process, while multiprocessing uses multiple, independent processes.\n",
        "\n",
        ">> ### Multithreading :\n",
        "\n",
        ">- Threads are lightweight units of a process.\n",
        "\n",
        ">- Multiple threads share the same memory space of the process.\n",
        "\n",
        ">- In Python, due to the GIL (Global Interpreter Lock), only one thread runs Python bytecode at a time, even if you have multiple cores.\n",
        "\n",
        ">- Good for I/O-bound tasks (waiting for files, network, database), not for CPU-heavy work.\n",
        "\n",
        ">>>**Example use case** : downloading multiple files, handling many client connections, reading/writing files.\n",
        "\n",
        "\n",
        ">>  ### Multiprocessing :\n",
        "\n",
        ">- Processes are heavier than threads.\n",
        "\n",
        ">- Each process has its own memory space, separate from others.\n",
        "\n",
        ">- Python's multiprocessing module can fully use multiple CPU cores, avoiding the GIL limitation.\n",
        "\n",
        ">- Best for CPU-bound tasks (calculations, data processing, machine learning).\n",
        "\n",
        ">>> **Example use case**: image processing, mathematical computations, simulations"
      ]
    },
    {
      "cell_type": "markdown",
      "metadata": {
        "id": "PSlxFfLLaBva"
      },
      "source": [
        "## Q10 . What are the advantages of using logging in a program ?\n",
        "\n",
        "#### Ans :  Using logging in a program offers several advantages that are crucial for development, debugging, and maintenance. Instead of simply printing messages to the console, logging provides a more structured and powerful way to record events .\n",
        "\n",
        ">### 1. Persistent Record\n",
        "\n",
        ">- Unlike print statements, which disappear after the program closes, logging allows you to save messages to a file. This creates a persistent record of events that you can review later to understand the program's behavior over time. This is especially useful for long-running applications or when diagnosing issues that only occur in specific environments.\n",
        "\n",
        ">### 2. Controlled Output\n",
        "\n",
        ">- Logging allows you to control the level of detail you see. You can set different logging levels (such as DEBUG, INFO, WARNING, ERROR, and CRITICAL) to filter messages. For example, you can set the level to INFO in a production environment to see only important messages and then switch to DEBUG in a development environment to see all the detailed output\n",
        "\n",
        ">### 3. Structured Information\n",
        "\n",
        ">- Log messages can include crucial metadata like a timestamp, the source module, the line number, and the severity level. This structured information makes it much easier to pinpoint the exact location and time of an event. A simple print statement lacks this context, making it harder to track down the source of an error.\n",
        "    \n",
        ">### 4. Flexibility and Centralization\n",
        "\n",
        ">- Logging allows you to send messages to multiple destinations, or handlers, simultaneously. You can configure logs to be written to a file, sent to a remote server, displayed on the console, or even sent via email. This flexibility is a significant advantage over simple print statements, which are limited to the standard output.\n",
        "\n",
        ">### 5. Debugging and Auditing\n",
        "\n",
        ">- Logging is an invaluable tool for debugging. By strategically placing log messages in your code, you can trace the program's execution flow and inspect variable values at different stages. It also provides an audit trail for security and compliance purposes, as it can record user actions, system events, and potential security threats.\n",
        "\n",
        "\n",
        "\n",
        "\n"
      ]
    },
    {
      "cell_type": "markdown",
      "metadata": {
        "id": "Oq7HRACUPI39"
      },
      "source": [
        "## Q11 . What is memory management in Python ?\n",
        "\n",
        "#### Ans : Memory management in Python is the process of allocating and deallocating memory resources to objects and data structures. It is primarily handled automatically by the Python memory manager, which uses several key techniques to simplify development and prevent memory leaks."
      ]
    },
    {
      "cell_type": "markdown",
      "metadata": {
        "id": "OcAtKUIDQDpl"
      },
      "source": [
        "## Q12 . What are the basic steps involved in exception handling in Python ?\n",
        "\n",
        "#### Ans : The basic steps involved in exception handling in Python revolve around the use of four keywords: `try`, `except`, `else`, and `finally`.\n",
        "\n",
        ">> ### Basic Steps in Exception Handling\n",
        "\n",
        "> The core process involves placing the code that might raise an exception inside a block and providing specific instructions on what to do if an exception occurs.\n",
        "\n",
        "1. **The try Block**\n",
        "\n",
        "> This is the mandatory first step. You place the code that is likely to cause an error (the \"risky\" code) inside the try block.\n",
        "\n",
        ">- Purpose: To define a block of code to be monitored for exceptions.\n",
        "\n",
        ">- Execution Flow: Python attempts to execute all statements within this block. If no exception occurs, Python skips the except block and moves on.\n",
        "\n",
        "\n",
        "2. **The except Block**\n",
        "\n",
        ">> This block defines the instructions to be executed if a specific exception (or any exception) is raised within the preceding try block.\n",
        "\n",
        ">>-  Purpose: To catch and handle the exception.\n",
        "\n",
        ">>- Execution Flow: If an exception occurs in the try block, Python immediately jumps to the matching except block. The code inside the except block is then executed, usually to log the error, display a user-friendly message, or attempt to recover.\n",
        "\n",
        ">> ### Optional (But Useful) Steps :\n",
        "\n",
        "3. **The else Block**\n",
        "\n",
        ">> The else block is executed only if the code in the try block runs completely without any exceptions.\n",
        "\n",
        ">>- Purpose: To contain code that should run only when the primary action in try was successful. This keeps the try block focused only on the potentially risky operation.\n",
        "\n",
        "4. **The finally Block**\n",
        "\n",
        ">The finally block is always executed, regardless of whether an exception occurred in the try block or was handled by an except block.\n",
        "\n",
        ">>- Purpose: To define cleanup actions that must be performed, such as closing files, releasing network connections, or cleaning up resources.\n",
        "\n"
      ]
    },
    {
      "cell_type": "markdown",
      "metadata": {
        "id": "ekTVqV97TMqc"
      },
      "source": [
        "## Q13 . Why is memory management important in Python ?\n",
        "\n",
        "#### Ans : Memory management is crucial in Python because it automates the complex process of allocating and deallocating memory, preventing developers from having to handle low-level memory operations manually. This significantly improves program efficiency, stability, and developer productivity.\n",
        "\n",
        "> ### Key Reasons for its Importance :\n",
        "\n",
        "1. **Prevents Memory Leaks and Fragmentation**\n",
        "\n",
        "> Python's memory manager, with its reference counting and garbage collector, is designed to automatically reclaim memory that is no longer being used.\n",
        "\n",
        ">- Memory Leaks: The system ensures that when an object is no longer referenced, its memory is immediately returned to the free list (via reference counting) or eventually collected (via the generational garbage collector). Without this, unused memory would pile up, causing the program to consume excessive resources and eventually crash.\n",
        "\n",
        ">- Fragmentation : By managing memory in pools for smaller objects, Python reduces memory fragmentation, which improves access speed and overall system performance.\n",
        "\n",
        "\n",
        "2. **Increases Developer Productivity**\n",
        "\n",
        "> By handling memory allocation and deallocation automatically, Python frees the developer from dealing with:\n",
        "\n",
        ">-  Manual memory calls (like malloc and free in C).\n",
        "\n",
        ">- Pointer arithmetic.\n",
        "\n",
        ">- The risk of dangling pointers or buffer overflows.\n",
        "\n",
        ">>> This allows developers to focus on application logic rather than low-level system concerns, accelerating development\n",
        "\n",
        "3. **Improves Program Stability and Safety**\n",
        "\n",
        "> The isolation provided by the Python Private Heap and the automated cleanup process enhances the security and stability of the application.\n",
        "\n",
        ">- A dedicated memory space for Python objects means that a bug in one part of the code is less likely to corrupt memory used by another part of the system or the operating system itself.\n",
        "\n",
        ">- The automatic handling prevents common runtime errors that stem from improper memory access, making programs more reliable.\n",
        "\n",
        "4. **Efficient Resource Utilization**\n",
        "\n",
        "> The use of object pools for small, common objects (like integers and strings) is a form of memory management optimization.\n",
        "\n",
        ">- Instead of constantly requesting and releasing small chunks of memory from the operating system, Python allocates large blocks and reuses the smaller chunks internally. This reduces the overhead and execution time associated with frequent system calls, making the program run faster."
      ]
    },
    {
      "cell_type": "markdown",
      "metadata": {
        "id": "_T_QvFHEWxMS"
      },
      "source": [
        "## Q14 . What is the role of try and except in exception handling ?\n",
        "#### Ans : The core role of try and except in Python exception handling is to separate the code that might cause an error from the code that handles the error. This allows a program to gracefully recover from unexpected situations instead of crashing.\n",
        "\n",
        "1. **The Role of try**\n",
        "\n",
        "> The try block defines the block of code that Python should execute while monitoring it for potential exceptions. It serves as a testing ground for risky operations.\n",
        "\n",
        ">- Execution Monitoring: Python executes the code within the try block.\n",
        "\n",
        ">- Signaling: If an exception (an error like ZeroDivisionError or FileNotFoundError) occurs, the try block immediately stops execution, and Python looks for a matching except block.\n",
        "\n",
        ">- Success: If the code runs to completion without any exceptions, the program skips the corresponding except block(s).\n",
        "\n",
        "2. **The Role of except**\n",
        "\n",
        "> The except block defines the instructions that should be executed when a specific type of exception is raised in the preceding try block. It is the error handler.\n",
        "\n",
        ">- Exception Catching: It \"catches\" the exception raised by the try block. You can specify a particular exception type (e.g., FileNotFoundError) or catch all exceptions using a general except Exception as e:.\n",
        "\n",
        ">- Error Recovery: It contains the logic to handle the error, which might involve:\n",
        "\n",
        ">- Logging the error details.\n",
        "\n",
        ">- Displaying a friendly message to the user.\n",
        "\n",
        ">- Providing a fallback or default value.\n",
        "\n",
        ">- Attempting to fix the problem and continue execution"
      ]
    },
    {
      "cell_type": "markdown",
      "source": [
        "## Q15 . How does Python's garbage collection system work ?\n",
        "\n",
        "#### Ans : Python manages memory automatically, which means we don't usually need to free memory ourselves. This is done through garbage collection.\n",
        "\n",
        ">> 1. ### Reference Counting\n",
        "\n",
        ">- Every object in Python has a counter that tracks how many variables or places are pointing to it.\n",
        "\n",
        ">- When the counter becomes zero (no one is using the object anymore), Python immediately deletes that object from memory.\n",
        "\n",
        ">> 2. ### Garbage Collector for Cycles\n",
        "\n",
        ">- Sometimes objects refer to each other in a cycle, so reference counting alone cannot clean them.\n",
        "\n",
        ">- **Example** : object A refers to object B, and B refers back to A. Even if no variable points to them, their reference counts won't drop to zero.\n",
        "\n",
        ">- Python's garbage collector checks for these cycles and cleans them up.\n",
        "\n",
        ">> 3. ### Generational Garbage Collection\n",
        "\n",
        ">- Python uses the idea of “generations” to make garbage collection faster.\n",
        "\n",
        ">- Generation 0: New objects (collected very often).\n",
        "\n",
        ">- Generation 1: Objects that survived one collection.\n",
        "\n",
        ">- Generation 2: Long-lived objects (collected rarely).\n",
        "\n",
        ">- Most short-lived objects die young, so this saves time by focusing on new objects more frequently.\n",
        "\n"
      ],
      "metadata": {
        "id": "uuORSb3pptwG"
      }
    },
    {
      "cell_type": "markdown",
      "source": [
        "## Q16 . What is the purpose of the else block in exception handling ?\n",
        "\n",
        "#### Ans : The purpose of the else block in a `try`...`except`...`else`...`finally` structure is to contain code that must execute only if the code in the try block completes successfully, without raising any exceptions.\n",
        "\n",
        "> ### Key Distinction :\n",
        "\n",
        ">> The else block acts as a clean boundary, separating the code that might cause an error from the code that logically depends on the successful execution of the try block.\n",
        "\n",
        "| Block   | Execution Condition                                   | Primary Goal                                       |\n",
        "|---------|-------------------------------------------------------|----------------------------------------------------|\n",
        "| `try`     | Always executes first                                | Holds the risky code (e.g., file open, network request) |\n",
        "| `except`  | Executes only if an exception is raised in the try block | Handles the error gracefully                       |\n",
        "| `else`    | Executes only if NO exception is raised in the try block | Holds success-dependent code                       |\n",
        "| `finally` | Always executes, regardless of success or failure     | Performs guaranteed cleanup (e.g., closing resources) |\n",
        "\n",
        "\n",
        "> ### Why use else?\n",
        "\n",
        ">- It keeps the “normal” code separate from the exception-handling code.\n",
        "\n",
        ">- Makes your code cleaner and easier to read.\n",
        "\n",
        ">- Useful when you only want to execute something if the risky operation succeeded."
      ],
      "metadata": {
        "id": "nh5eBw_qsSS3"
      }
    },
    {
      "cell_type": "markdown",
      "source": [
        "## Q17 . What are the common logging levels in Python ?\n",
        "\n",
        "#### Ans : In Python's built-in logging module, there are five standard logging levels that are most commonly used:\n",
        "\n",
        "1. **DEBUG (10)**\n",
        "\n",
        ">- Detailed information, typically useful only when diagnosing problems.\n",
        "\n",
        ">>- **Example** : tracking variable values, function calls, or flow of execution.\n",
        "\n",
        "2. **INFO (20)**\n",
        "\n",
        ">- Confirms that things are working as expected.\n",
        "\n",
        ">>- **Example** : Server started on port 8080.\n",
        "\n",
        "3. **WARNING (30)**\n",
        "\n",
        ">- Indicates something unexpected happened, or potential problem, but the program is still running.\n",
        "\n",
        ">>- **Example** : Disk space is running low.\n",
        "\n",
        "4. **ERROR (40)**\n",
        "\n",
        ">- A serious issue that prevented part of the program from performing a function.\n",
        "\n",
        ">>- **Example** : Failed to open database connection.\n",
        "\n",
        "5. **CRITICAL (50)**\n",
        "\n",
        ">- A very serious error, indicating the program itself may not be able to continue running.\n",
        "\n",
        ">>- **Example** : System out of memory, shutting down.\n",
        "\n",
        "| Level     | Value | Usage Example                                |\n",
        "|-----------|-------|----------------------------------------------|\n",
        "| DEBUG     | 10    | Detailed diagnostic info (dev only)          |\n",
        "| INFO      | 20    | General events confirming normal operation   |\n",
        "| WARNING   | 30    | Unexpected events, potential issues          |\n",
        "| ERROR     | 40    | Serious problems, part of program failed     |\n",
        "| CRITICAL  | 50    | Severe errors, program may not continue      |\n"
      ],
      "metadata": {
        "id": "zI0VncSBbsN2"
      }
    },
    {
      "cell_type": "markdown",
      "source": [
        "## Q18 . What is the difference between os.fork() and multiprocessing in Python ?\n",
        "\n",
        "#### Ans : The difference between os.fork() and the multiprocessing module in Python lies in their platform compatibility, ease of use, and data exchange capabilities.\n",
        "\n",
        ">1. ### os.fork()\n",
        "\n",
        ">>- `os.fork()` is a low-level system call that directly creates a new process.\n",
        "\n",
        ">>- It is available only on Unix/Linux systems (not on Windows).\n",
        "\n",
        ">>- When you call os.fork(), it makes a child process which is a copy of the parent process. Both parent and child keep running the same code after the fork point.\n",
        "\n",
        ">>- The programmer has to manually manage what parent does and what child does, so it can be tricky.\n",
        "\n",
        ">2. ### multiprocessing module\n",
        "\n",
        ">>- multiprocessing is a high-level module in Python that makes it easy to work with multiple processes.\n",
        "\n",
        ">>- It works on both Windows and Linux, so it is cross-platform.\n",
        "\n",
        ">>- It handles many things internally (like process creation, communication, synchronization), so the programmer doesn’t have to worry about the low-level details.\n",
        "\n",
        ">>- You can create processes just like creating threads, using Process class."
      ],
      "metadata": {
        "id": "JfPz27rce4S8"
      }
    },
    {
      "cell_type": "markdown",
      "source": [
        "## Q19 . What is the importance of closing a file in Python ?\n",
        "\n",
        "#### Ans : When we open a file in Python using open(), the operating system reserves resources like memory and a file handle to interact with that file. If we dont' close the file after finishing, several problems can happen. That's why closing a file is important.\n",
        "\n",
        "1. ### Releases system resources\n",
        "\n",
        ">- Every open file takes up some memory and a file handle (provided by the OS).\n",
        "\n",
        ">- If files are left open, these resources keep piling up and may slow down or even crash the program.\n",
        "\n",
        ">- Closing a file frees those resources.\n",
        "\n",
        "2. ### Ensures data is saved (writes are flushed)\n",
        "\n",
        ">- When we write to a file, Python usually stores the data in a temporary buffer (not immediately in the file).\n",
        "\n",
        ">- If we forget to close the file, the buffer might not be written to disk, leading to data loss or incomplete files.\n",
        "\n",
        ">- Closing the file forces Python to flush the buffer and save all changes properly.\n",
        "\n",
        "3. ### Prevents file corruption\n",
        "\n",
        ">- Especially when writing, leaving a file open can leave it in a corrupted or half-written state. Closing ensures everything is finalized.\n",
        "\n",
        "4. ### Good programming practice\n",
        "\n",
        ">- It shows clear intent: you open a file when you need it and close it when you're done.\n",
        "\n",
        ">- It makes the code easier to read and maintain."
      ],
      "metadata": {
        "id": "rBfDqw8pgjP1"
      }
    },
    {
      "cell_type": "markdown",
      "source": [
        "## Q20 . What is the difference between file.read() and file.readline() in Python ?\n",
        "\n",
        "#### Ans : The difference between file.read() and file.readline() in Python is in how much content they read:\n",
        "\n",
        ">1. ### `file.read()`\n",
        "\n",
        ">- Reads the entire file at once (or a specific number of characters if you pass a number).\n",
        "\n",
        ">- Returns the result as one big string.\n",
        "\n",
        ">- Good if the file is small and you need everything in memory.\n",
        "\n",
        "> 2. ### `file.readline()`\n",
        "\n",
        ">- Reads only one line at a time (until it finds a newline \\n).\n",
        "\n",
        ">- Each call moves the cursor forward to the next line.\n",
        "\n",
        ">- Useful for large files where you don't want to load everything into memory."
      ],
      "metadata": {
        "id": "iJN7peREmHRI"
      }
    },
    {
      "cell_type": "markdown",
      "source": [
        "## Q21 . What is the logging module in Python used for ?\n",
        "\n",
        "#### Ans : The logging module in Python is used to keep track of what your program is doing while it runs.\n",
        "#### Instead of just printing messages using print(), logging helps you :\n",
        "\n",
        ">- Record messages to a file or the console.\n",
        "\n",
        ">- Track errors, warnings, info, or debug messages.\n",
        "\n",
        ">- Control the level of messages you want to see (like only errors, or everything).\n",
        "\n",
        "> ### Logging Levels\n",
        "\n",
        "| Level    | Meaning                                                |\n",
        "| -------- | ------------------------------------------------------ |\n",
        "| DEBUG    | Detailed info, for developers only                     |\n",
        "| INFO     | General info about program running                     |\n",
        "| WARNING  | Something unexpected happened, but program still works |\n",
        "| ERROR    | Serious problem, program cannot perform a function     |\n",
        "| CRITICAL | Very serious error, program may crash                  |\n"
      ],
      "metadata": {
        "id": "HakykOjBqzjg"
      }
    },
    {
      "cell_type": "markdown",
      "source": [
        "## Q22 . What is the os module in Python used for in file handling ?\n",
        "#### Ans : The os module provides a cross‑platform way to interact with the operating system, and in file handling it's used to work with paths, directories, metadata, and permissions around files rather than reading/writing file contents themselves (that's done with open().\n",
        "\n",
        ">### What it's used for\n",
        "\n",
        ">- Path handling : Build safe paths, split names/exts, normalize, and check existence using functions like os.path.join, os.path.abspath, os.path.isdir, os.path.isfile, os.path.exists, os.path.splitext.\n",
        "\n",
        ">- Directory operations: Create, remove, rename, and list entries with os.mkdir, os.makedirs, os.rmdir, os.removedirs, os.listdir, os.rename, os.replace.\n",
        "\n",
        ">- Current working directory: Get or change where relative paths resolve via os.getcwd and os.chdir for predictable file operations.\n",
        "\n",
        ">- File deletion and metadata: Delete files with os.remove and read info like size and timestamps with os.stat; change permissions with os.chmod.\n",
        "\n",
        ">- Cross‑platform behavior: Abstracts OS differences so the same path and filesystem code works on Windows, macOS, and Linux"
      ],
      "metadata": {
        "id": "w-iArOoy4TfG"
      }
    },
    {
      "cell_type": "markdown",
      "source": [
        "## Q23 . What are the challenges associated with memory management in Python ?\n",
        "\n",
        "#### Ans : Memory management is how Python stores data in memory (RAM) and frees it when it's no longer needed.\n",
        "### Good memory management is important because RAM is limited, and programs that use too much memory can slow down or crash.\n",
        "\n",
        "> ### Challenges in Python Memory Management :\n",
        "\n",
        "1. ### Automatic Garbage Collection\n",
        "\n",
        ">>- Python uses garbage collection to free memory of unused objects.\n",
        "\n",
        ">>- Challenge: Circular references can sometimes delay memory cleanup.\n",
        "\n",
        "2. ### Memory Leaks\n",
        "\n",
        ">>- Even with garbage collection, memory leaks can occur if objects are accidentally kept alive.\n",
        "\n",
        ">>> - **Example** : storing large objects in a global list and never removing them.\n",
        "\n",
        "3. ### Large Objects\n",
        "\n",
        ">>- Python objects take more memory than plain data because of metadata stored with every object.\n",
        "\n",
        ">>- Challenge : Storing millions of objects can consume huge memory.\n",
        "\n",
        "4. ### Reference Counting Limitations\n",
        "\n",
        ">>- Python mainly uses reference counting: an object is deleted when no references point to it.\n",
        "\n",
        ">>- Challenge : Objects in circular references may not be immediately cleaned up, relying on garbage collector.\n",
        "\n",
        "5. ### Unpredictable Performance\n",
        "\n",
        ">>- Garbage collection can pause your program to free memory.\n",
        "\n",
        ">>- For real-time applications, this can cause performance issues.\n",
        "\n",
        "6. ### External Libraries\n",
        "\n",
        ">>- Some C extensions or libraries may allocate memory outside Python’s control.\n",
        "\n",
        ">>- Python's garbage collector cannot track this, causing memory leaks if not managed manually."
      ],
      "metadata": {
        "id": "pogmh1Cd9-u9"
      }
    },
    {
      "cell_type": "markdown",
      "source": [
        "## Q24 . How do you raise an exception manually in Python ?\n",
        "\n",
        "#### Ans : In Python, `raise` is used to trigger an exception on purpose—either a built‑in one like ValueError or a custom one—so the code stops normal flow and the error can be handled by try/except. This is how to signal “something's wrong” at a specific point in the program.\n",
        "\n",
        "1. ###  The Basic Syntax\n",
        "\n",
        ">- The most straightforward way to raise an exception is to use the raise keyword followed by the name of the exception you want to trigger, optionally including a descriptive message in parentheses.\n",
        "\n",
        "2. ###  Raising a Custom Exception\n",
        "\n",
        ">- You can also define and `raise` your own custom exceptions by inheriting from Python's base `Exception` class. This makes your error messages more specific and easier to handle later."
      ],
      "metadata": {
        "id": "Ids297TjBvBc"
      }
    },
    {
      "cell_type": "markdown",
      "source": [
        "## Q25 . Why is it important to use multithreading in certain applications ?\n",
        "\n",
        "#### Ans : Multithreading means running multiple threads (smaller units of a process) at the same time inside a program.\n",
        "It's important in certain applications because it improves speed, responsiveness, and resource usage.\n",
        "\n",
        ">>### Main Reasons\n",
        "\n",
        "1. **Responsiveness**\n",
        "\n",
        ">>- In applications like games, web apps, or GUIs, one thread can handle user input while another does background work.\n",
        "\n",
        ">>- **Example** : A text editor can check spelling in the background while you keep typing.\n",
        "\n",
        "2. **Better Performance**\n",
        "\n",
        ">>- Tasks like downloading files, handling requests on a server, or processing data can run in parallel.\n",
        "\n",
        ">>- **Example** : A web server can handle thousands of clients at once using threads.\n",
        "\n",
        "3. **Efficient Resource Utilization**\n",
        "\n",
        ">>- While one thread is waiting (like waiting for network data), another can continue working.\n",
        "\n",
        ">>- Prevents CPU from sitting idle.\n",
        "\n",
        "4.  **Simplifies Program Structure**\n",
        "\n",
        ">>- Instead of writing complex code to manage multiple tasks, you can split them into separate threads that run side by side."
      ],
      "metadata": {
        "id": "xilFYzj4EFq3"
      }
    },
    {
      "cell_type": "markdown",
      "source": [
        "# Practical Questions"
      ],
      "metadata": {
        "id": "pNMEl5S9F0sN"
      }
    },
    {
      "cell_type": "markdown",
      "source": [
        "## Q1 . How can you open a file for writing in Python and write a string to it?"
      ],
      "metadata": {
        "id": "Jn9qtPqqF4_Y"
      }
    },
    {
      "cell_type": "code",
      "source": [
        "# The string we want to write\n",
        "text = \"Hello, this is a sample text written to the file.\"\n",
        "\n",
        "# Open a file in write mode (\"w\")\n",
        "with open(\"sample.txt\", \"w\") as file:\n",
        "    file.write(text)  # Write the string to the file\n",
        "\n",
        "print(\"Text has been written to 'sample.txt'.\")\n"
      ],
      "metadata": {
        "id": "hIEidMTdGMrx",
        "colab": {
          "base_uri": "https://localhost:8080/"
        },
        "outputId": "e90c98a3-009c-4fcd-88e2-1cbece47afe1"
      },
      "execution_count": null,
      "outputs": [
        {
          "output_type": "stream",
          "name": "stdout",
          "text": [
            "Text has been written to 'sample.txt'.\n"
          ]
        }
      ]
    },
    {
      "cell_type": "markdown",
      "source": [
        "## Q2 . Write a Python program to read the contents of a file and print each line."
      ],
      "metadata": {
        "id": "nlROP8CGRrU5"
      }
    },
    {
      "cell_type": "code",
      "source": [
        "# Create and write a file\n",
        "with open(\"myfile.txt\", \"w\") as f:\n",
        "    f.write(\"Hello World\\n\")\n",
        "    f.write(\"Python is fun\\n\")\n",
        "    f.write(\"File handling is easy\\n\")\n",
        "\n",
        "# Read the file line by line\n",
        "with open(\"myfile.txt\", \"r\") as f:\n",
        "    for line in f:\n",
        "        print(line.strip())\n"
      ],
      "metadata": {
        "colab": {
          "base_uri": "https://localhost:8080/"
        },
        "id": "zEAOqEANSIps",
        "outputId": "ee9fadef-b708-4587-d028-2060d9d8032d"
      },
      "execution_count": null,
      "outputs": [
        {
          "output_type": "stream",
          "name": "stdout",
          "text": [
            "Hello World\n",
            "Python is fun\n",
            "File handling is easy\n"
          ]
        }
      ]
    },
    {
      "cell_type": "markdown",
      "source": [
        "## Q3 . How would you handle a case where the file doesn't exist while trying to open it for reading?"
      ],
      "metadata": {
        "id": "e2TPZNMNUxpa"
      }
    },
    {
      "cell_type": "code",
      "source": [
        "try:\n",
        "    with open(\"demo.txt\", \"r\") as f:\n",
        "        for line in f:\n",
        "            print(line.strip())\n",
        "except FileNotFoundError:\n",
        "    print(\"Error: The file does not exist.\")\n"
      ],
      "metadata": {
        "colab": {
          "base_uri": "https://localhost:8080/"
        },
        "id": "vPco4_CQU9Id",
        "outputId": "ea7bbba1-84d1-4a17-be5c-59b14aba63f7"
      },
      "execution_count": null,
      "outputs": [
        {
          "output_type": "stream",
          "name": "stdout",
          "text": [
            "Error: The file does not exist.\n"
          ]
        }
      ]
    },
    {
      "cell_type": "markdown",
      "source": [
        "## Q4 . Write a Python script that reads from one file and writes its content to another file."
      ],
      "metadata": {
        "id": "qA2sIsZsWypM"
      }
    },
    {
      "cell_type": "code",
      "source": [
        "# Program to copy content from one file to another\n",
        "\n",
        "# create a file and write something in it\n",
        "with open(\"input.txt\", \"w\") as f:\n",
        "    f.write(\"Hello, this is my first file.\\n\")\n",
        "    f.write(\"I am learning Python file handling.\\n\")\n",
        "    f.write(\"This content will be copied to another file.\")\n",
        "\n",
        "# open the first file in read mode\n",
        "with open(\"input.txt\", \"r\") as infile:\n",
        "    data = infile.read()\n",
        "\n",
        "# open the second file in write mode and put the same data\n",
        "with open(\"output.txt\", \"w\") as outfile:\n",
        "    outfile.write(data)\n",
        "\n",
        "print(\"File copied successfully\")\n",
        "\n",
        "# check the content of the new file\n",
        "with open(\"output.txt\", \"r\") as f:\n",
        "    print(f.read())\n"
      ],
      "metadata": {
        "colab": {
          "base_uri": "https://localhost:8080/"
        },
        "id": "MvraOtVjsWuB",
        "outputId": "81a5ba09-b857-4fa9-98f7-b9df35a1cbea"
      },
      "execution_count": null,
      "outputs": [
        {
          "output_type": "stream",
          "name": "stdout",
          "text": [
            "File copied successfully\n",
            "Hello, this is my first file.\n",
            "I am learning Python file handling.\n",
            "This content will be copied to another file.\n"
          ]
        }
      ]
    },
    {
      "cell_type": "markdown",
      "source": [
        "## Q5 . How would you catch and handle division by zero error in Python?"
      ],
      "metadata": {
        "id": "43qXEJKEYhT3"
      }
    },
    {
      "cell_type": "code",
      "source": [
        "try:\n",
        "    num1 = 10\n",
        "    num2 = 0\n",
        "    result = num1 / num2   # This will raise ZeroDivisionError\n",
        "    print(\"Result:\", result)\n",
        "\n",
        "except ZeroDivisionError:\n",
        "    print(\"Error: Cannot divide by zero!\")\n"
      ],
      "metadata": {
        "colab": {
          "base_uri": "https://localhost:8080/"
        },
        "id": "bCVw-CWva3BX",
        "outputId": "f351e322-c626-4e28-a3f3-527f6eb5a7f1"
      },
      "execution_count": null,
      "outputs": [
        {
          "output_type": "stream",
          "name": "stdout",
          "text": [
            "Error: Cannot divide by zero!\n"
          ]
        }
      ]
    },
    {
      "cell_type": "markdown",
      "source": [
        "## Q6 . Write a Python program that logs an error message to a log file when a division by zero exception occurs."
      ],
      "metadata": {
        "id": "eGHaYLY9bGUG"
      }
    },
    {
      "cell_type": "code",
      "source": [
        "import logging\n",
        "\n",
        "# Configure logging (create a log file named error.log)\n",
        "logging.basicConfig(filename=\"error.log\", level=logging.ERROR, format=\"%(asctime)s - %(levelname)s - %(message)s\")\n",
        "\n",
        "try:\n",
        "    num1 = 10\n",
        "    num2 = 0\n",
        "    result = num1 / num2   # Division by zero\n",
        "    print(\"Result:\", result)\n",
        "\n",
        "except ZeroDivisionError:\n",
        "    logging.error(\"Division by zero attempted\")   # Log error message\n",
        "    print(\"An error occurred. Please check the log file.\")\n"
      ],
      "metadata": {
        "colab": {
          "base_uri": "https://localhost:8080/"
        },
        "id": "gOQdXmCqbaHp",
        "outputId": "0b7abf65-c722-4f5b-971d-8ba77ab02b31"
      },
      "execution_count": null,
      "outputs": [
        {
          "output_type": "stream",
          "name": "stderr",
          "text": [
            "ERROR:root:Division by zero attempted\n"
          ]
        },
        {
          "output_type": "stream",
          "name": "stdout",
          "text": [
            "An error occurred. Please check the log file.\n"
          ]
        }
      ]
    },
    {
      "cell_type": "markdown",
      "source": [
        "## Q7 . How do you log information at different levels (INFO, ERROR, WARNING) in Python using the logging module?"
      ],
      "metadata": {
        "id": "wKyoZt6zc-sh"
      }
    },
    {
      "cell_type": "code",
      "source": [
        "import logging\n",
        "\n",
        "# Configure logging\n",
        "logging.basicConfig(filename=\"app.log\", level=logging.DEBUG, format=\"%(asctime)s - %(levelname)s - %(message)s\")\n",
        "\n",
        "# Log messages at different levels\n",
        "logging.info(\"This is an INFO message - Program started successfully\")\n",
        "logging.warning(\"This is a WARNING message - Low disk space\")\n",
        "logging.error(\"This is an ERROR message - Division by zero occurred\")\n"
      ],
      "metadata": {
        "colab": {
          "base_uri": "https://localhost:8080/"
        },
        "id": "SHLR8eHsdZPw",
        "outputId": "9559177f-7fdb-480a-f25b-7e673830634b"
      },
      "execution_count": null,
      "outputs": [
        {
          "output_type": "stream",
          "name": "stderr",
          "text": [
            "WARNING:root:This is a WARNING message - Low disk space\n",
            "ERROR:root:This is an ERROR message - Division by zero occurred\n"
          ]
        }
      ]
    },
    {
      "cell_type": "markdown",
      "source": [
        "## Q8 . Write a program to handle a file opening error using exception handling."
      ],
      "metadata": {
        "id": "6qqtill0d-Bt"
      }
    },
    {
      "cell_type": "code",
      "source": [
        "try:\n",
        "    # Trying to open a file that does not exist\n",
        "    with open(\"info.txt\", \"r\") as f:\n",
        "        content = f.read()\n",
        "        print(content)\n",
        "\n",
        "except FileNotFoundError:\n",
        "    print(\"Error: The file you are trying to open does not exist.\")\n"
      ],
      "metadata": {
        "colab": {
          "base_uri": "https://localhost:8080/"
        },
        "id": "Q0HM2_eZeGvI",
        "outputId": "ece8ab67-4eaf-4a83-f705-d4ae8eb9f828"
      },
      "execution_count": null,
      "outputs": [
        {
          "output_type": "stream",
          "name": "stdout",
          "text": [
            "Error: The file you are trying to open does not exist.\n"
          ]
        }
      ]
    },
    {
      "cell_type": "markdown",
      "source": [
        "## Q9 . How can you read a file line by line and store its content in a list in Python?\n",
        "\n",
        "\n"
      ],
      "metadata": {
        "id": "KSmIHdAuej2C"
      }
    },
    {
      "cell_type": "code",
      "source": [
        "with open(\"myfile.txt\", \"w\") as f:\n",
        "    f.write(\"Hello World\\n\")\n",
        "    f.write(\"Python is fun\\n\")\n",
        "    f.write(\"File handling is easy\\n\")\n"
      ],
      "metadata": {
        "id": "n8MMY4-KfsVq"
      },
      "execution_count": null,
      "outputs": []
    },
    {
      "cell_type": "code",
      "source": [
        "# Read file line by line and store in a list\n",
        "lines_list = []\n",
        "\n",
        "with open(\"myfile.txt\", \"r\") as f:\n",
        "    for line in f:\n",
        "        lines_list.append(line.strip())  # strip() removes newline characters\n",
        "\n",
        "print(lines_list)\n"
      ],
      "metadata": {
        "colab": {
          "base_uri": "https://localhost:8080/"
        },
        "id": "lQ942jgZfBfw",
        "outputId": "e7d9d8c9-40b5-4c53-976c-414d8b4fcb1b"
      },
      "execution_count": null,
      "outputs": [
        {
          "output_type": "stream",
          "name": "stdout",
          "text": [
            "['Hello World', 'Python is fun', 'File handling is easy']\n"
          ]
        }
      ]
    },
    {
      "cell_type": "markdown",
      "source": [
        "## Q10 . How can you append data to an existing file in Python?\n"
      ],
      "metadata": {
        "id": "D88vFr1ss4io"
      }
    },
    {
      "cell_type": "code",
      "source": [
        "# Program to append data (if file not exists, it will be created)\n",
        "\n",
        "with open(\"example.txt\", \"a\") as f:\n",
        "    f.write(\"This is the first line in example.txt\\n\")\n",
        "\n",
        "with open(\"example.txt\", \"a\") as f:\n",
        "    f.write(\"This is new data appended to the file.\\n\")\n",
        "\n",
        "print(\"Data appended successfully!\")\n",
        "\n",
        "# check file content\n",
        "with open(\"example.txt\", \"r\") as f:\n",
        "    print(f.read())\n"
      ],
      "metadata": {
        "id": "31MIM3Q0tBpU"
      },
      "execution_count": null,
      "outputs": []
    },
    {
      "cell_type": "markdown",
      "source": [
        "## Q11 . Write a Python program that uses a try-except block to handle an error when attempting to access a dictionary key that doesn't exist."
      ],
      "metadata": {
        "id": "cIIU6fi_xmZw"
      }
    },
    {
      "cell_type": "code",
      "source": [
        "# Example of dictionary\n",
        "student_grades = {\n",
        "    \"Sameer\": 85,\n",
        "    \"Mahnoor\": 92,\n",
        "    \"Aniket\": 78\n",
        "}\n",
        "\n",
        "# Ask user for a student's name\n",
        "student_name = input(\"Enter the student's name: \")\n",
        "\n",
        "try:\n",
        "    # Try to access the grade for the given student\n",
        "    grade = student_grades[student_name]\n",
        "    print(f\"{student_name}'s grade is {grade}.\")\n",
        "except KeyError:\n",
        "    # This block runs if the student name is not in the dictionary\n",
        "    print(f\"Sorry, {student_name} is not in the student list.\")\n"
      ],
      "metadata": {
        "id": "zSq6xPEXyeo3"
      },
      "execution_count": null,
      "outputs": []
    },
    {
      "cell_type": "markdown",
      "source": [
        "## Q12. Write a program that demonstrates using multiple except blocks to handle different types of exceptions."
      ],
      "metadata": {
        "id": "Yzr_vuhuzykJ"
      }
    },
    {
      "cell_type": "code",
      "source": [
        "# Example program to demonstrate multiple except blocks\n",
        "\n",
        "# Ask user for two numbers\n",
        "try:\n",
        "    num1 = int(input(\"Enter the first number: \"))\n",
        "    num2 = int(input(\"Enter the second number: \"))\n",
        "\n",
        "    # Attempt division\n",
        "    result = num1 / num2\n",
        "    print(f\"The result of {num1} divided by {num2} is {result}\")\n",
        "\n",
        "except ValueError:\n",
        "    # This runs if the user enters something that's not a number\n",
        "    print(\"Oops! You must enter a valid number.\")\n",
        "\n",
        "except ZeroDivisionError:\n",
        "    # This runs if the user tries to divide by zero\n",
        "    print(\"Cannot divide by zero. Please enter a non-zero number.\")\n",
        "\n",
        "except Exception as e:\n",
        "    # This catches any other unexpected errors\n",
        "    print(f\"An unexpected error occurred: {e}\")\n"
      ],
      "metadata": {
        "colab": {
          "base_uri": "https://localhost:8080/"
        },
        "id": "updaBE-T0D-K",
        "outputId": "70d5ef84-b430-43a0-ed98-4d1b824f2e3d"
      },
      "execution_count": null,
      "outputs": [
        {
          "output_type": "stream",
          "name": "stdout",
          "text": [
            "Enter the first number: 6\n",
            "Enter the second number: 2\n",
            "The result of 6 divided by 2 is 3.0\n"
          ]
        }
      ]
    },
    {
      "cell_type": "markdown",
      "source": [
        "## Q13 . How would you check if a file exists before attempting to read it in Python?"
      ],
      "metadata": {
        "id": "EjPW7KXP0Sy1"
      }
    },
    {
      "cell_type": "code",
      "source": [
        "import os\n",
        "\n",
        "file_name = \"example.txt\"\n",
        "\n",
        "if os.path.exists(file_name):\n",
        "    with open(file_name, \"r\") as file:\n",
        "        content = file.read()\n",
        "        print(\"File content:\")\n",
        "        print(content)\n",
        "else:\n",
        "    print(f\"The file '{file_name}' does not exist.\")\n"
      ],
      "metadata": {
        "id": "ukwW9X0g9UWp"
      },
      "execution_count": null,
      "outputs": []
    },
    {
      "cell_type": "markdown",
      "source": [
        "## Q14 . Write a program that uses the logging module to log both informational and error messages."
      ],
      "metadata": {
        "id": "GiWDMDbk9-G5"
      }
    },
    {
      "cell_type": "code",
      "source": [
        "import logging\n",
        "\n",
        "# Configure logging\n",
        "logging.basicConfig(\n",
        "    filename=\"app.log\",      # Log messages will be saved in this file\n",
        "    level=logging.INFO,       # Log all INFO level and above messages\n",
        "    format=\"%(asctime)s - %(levelname)s - %(message)s\"\n",
        ")\n",
        "\n",
        "# Example program\n",
        "try:\n",
        "    logging.info(\"Program started.\")  # Informational message\n",
        "\n",
        "    # Ask user for two numbers\n",
        "    num1 = int(input(\"Enter the first number: \"))\n",
        "    num2 = int(input(\"Enter the second number: \"))\n",
        "\n",
        "    result = num1 / num2\n",
        "    logging.info(f\"Division successful: {num1} / {num2} = {result}\")\n",
        "    print(f\"The result is {result}\")\n",
        "\n",
        "except ValueError:\n",
        "    logging.error(\"Invalid input! User did not enter a number.\")\n",
        "    print(\"Please enter valid numbers.\")\n",
        "\n",
        "except ZeroDivisionError:\n",
        "    logging.error(\"Division by zero attempted!\")\n",
        "    print(\"Cannot divide by zero.\")\n",
        "\n",
        "except Exception as e:\n",
        "    logging.error(f\"An unexpected error occurred: {e}\")\n",
        "    print(\"Something went wrong.\")\n",
        "\n",
        "logging.info(\"Program ended.\")  # Informational message\n"
      ],
      "metadata": {
        "id": "wL-OgNN0_S6s"
      },
      "execution_count": null,
      "outputs": []
    },
    {
      "cell_type": "markdown",
      "source": [
        "## Q15 . Write a Python program that prints the content of a file and handles the case when the file is empty."
      ],
      "metadata": {
        "id": "54UscgxZ_fV8"
      }
    },
    {
      "cell_type": "code",
      "source": [
        "file_name = \"myfile.txt\"\n",
        "\n",
        "try:\n",
        "    with open(file_name, \"r\") as f:\n",
        "        content = f.read()\n",
        "        if content:  # Check if file has any content\n",
        "            print(\"File content:\\n\", content)\n",
        "        else:\n",
        "            print(\"The file is empty.\")\n",
        "\n",
        "except FileNotFoundError:\n",
        "    print(\"Error: The file does not exist.\")\n"
      ],
      "metadata": {
        "id": "75fnNW7RACQk"
      },
      "execution_count": null,
      "outputs": []
    },
    {
      "cell_type": "markdown",
      "source": [
        "## Q16 . Demonstrate how to use memory profiling to check the memory usage of a small program."
      ],
      "metadata": {
        "id": "CinzzBktBMNN"
      }
    },
    {
      "cell_type": "code",
      "source": [
        "!pip install memory-profiler\n"
      ],
      "metadata": {
        "colab": {
          "base_uri": "https://localhost:8080/"
        },
        "id": "9Rh6HRrACcDq",
        "outputId": "5457ecf3-c861-4f50-bd31-b9d70a89f0e2"
      },
      "execution_count": null,
      "outputs": [
        {
          "output_type": "stream",
          "name": "stdout",
          "text": [
            "Requirement already satisfied: memory-profiler in /usr/local/lib/python3.12/dist-packages (0.61.0)\n",
            "Requirement already satisfied: psutil in /usr/local/lib/python3.12/dist-packages (from memory-profiler) (5.9.5)\n"
          ]
        }
      ]
    },
    {
      "cell_type": "code",
      "source": [
        "from memory_profiler import profile\n",
        "\n",
        "@profile\n",
        "def my_program():\n",
        "    # Create a list of numbers\n",
        "    numbers = [i for i in range(100000)]\n",
        "\n",
        "    # Calculate sum\n",
        "    total = sum(numbers)\n",
        "    print(\"Sum of numbers:\", total)\n",
        "\n",
        "if __name__ == \"__main__\":\n",
        "    my_program()\n"
      ],
      "metadata": {
        "id": "OAXVCJy7CATr"
      },
      "execution_count": null,
      "outputs": []
    },
    {
      "cell_type": "markdown",
      "source": [
        "## Q17 . Write a Python program to create and write a list of numbers to a file, one number per line."
      ],
      "metadata": {
        "id": "GikBASWdCiI-"
      }
    },
    {
      "cell_type": "code",
      "source": [
        "# List of numbers\n",
        "numbers = [10, 20, 30, 40, 50]\n",
        "\n",
        "# Open a file in write mode\n",
        "with open(\"numbers.txt\", \"w\") as file:\n",
        "    for number in numbers:\n",
        "        file.write(str(number) + \"\\n\")  # Write each number on a new line\n",
        "        print(number)  # Print number to console as well\n",
        "\n",
        "print(\"Numbers have been written to 'numbers.txt'.\")\n"
      ],
      "metadata": {
        "colab": {
          "base_uri": "https://localhost:8080/"
        },
        "id": "SQqISXWTCzaU",
        "outputId": "1c7e0f6a-c0cb-40f9-9062-e2a5baf010d9"
      },
      "execution_count": null,
      "outputs": [
        {
          "output_type": "stream",
          "name": "stdout",
          "text": [
            "10\n",
            "20\n",
            "30\n",
            "40\n",
            "50\n",
            "Numbers have been written to 'numbers.txt'.\n"
          ]
        }
      ]
    },
    {
      "cell_type": "markdown",
      "source": [
        "## Q18 . How would you implement a basic logging setup that logs to a file with rotation after 1MB?"
      ],
      "metadata": {
        "id": "lgrhGH8-D6Fe"
      }
    },
    {
      "cell_type": "code",
      "source": [
        "import logging\n",
        "from logging.handlers import RotatingFileHandler\n",
        "\n",
        "# Create a logger\n",
        "logger = logging.getLogger(\"my_logger\")\n",
        "logger.setLevel(logging.INFO)  # Log INFO and above\n",
        "\n",
        "# Create a rotating file handler\n",
        "handler = RotatingFileHandler(\n",
        "    \"app.log\",       # Log file name\n",
        "    maxBytes=1_000_000,  # Rotate after 1MB\n",
        "    backupCount=3    # Keep 3 old log files\n",
        ")\n",
        "\n",
        "# Create a formatter and attach it to the handler\n",
        "formatter = logging.Formatter(\"%(asctime)s - %(levelname)s - %(message)s\")\n",
        "handler.setFormatter(formatter)\n",
        "\n",
        "# Add the handler to the logger\n",
        "logger.addHandler(handler)\n",
        "\n",
        "# Example log messages\n",
        "logger.info(\"Program started\")\n",
        "logger.warning(\"This is a warning\")\n",
        "logger.error(\"This is an error\")\n",
        "logger.info(\"Program ended\")\n"
      ],
      "metadata": {
        "colab": {
          "base_uri": "https://localhost:8080/"
        },
        "id": "pbD0NCYaENxU",
        "outputId": "bab57454-af72-4159-d246-77c39afe4cae"
      },
      "execution_count": null,
      "outputs": [
        {
          "output_type": "stream",
          "name": "stderr",
          "text": [
            "INFO:my_logger:Program started\n",
            "WARNING:my_logger:This is a warning\n",
            "ERROR:my_logger:This is an error\n",
            "INFO:my_logger:Program ended\n"
          ]
        }
      ]
    },
    {
      "cell_type": "markdown",
      "source": [
        "## Q19 . Write a program that handles both IndexError and KeyError using a try-except block."
      ],
      "metadata": {
        "id": "eBeCnhfHEXhe"
      }
    },
    {
      "cell_type": "code",
      "source": [
        "# Example of list and dictionary\n",
        "my_list = [10, 20, 30]\n",
        "my_dict = {\"a\": 1, \"b\": 2, \"c\": 3}\n",
        "\n",
        "try:\n",
        "    # Access an index that does not exist\n",
        "    print(\"Accessing list index 5:\")\n",
        "    print(my_list[5])  # Raises IndexError\n",
        "\n",
        "    # Access a key that does not exist\n",
        "    print(\"Accessing dictionary key 'z':\")\n",
        "    print(my_dict[\"z\"])  # Raises KeyError\n",
        "\n",
        "except IndexError:\n",
        "    print(\"Caught an IndexError! The list index does not exist.\")\n",
        "\n",
        "except KeyError:\n",
        "    print(\"Caught a KeyError! The dictionary key does not exist.\")\n",
        "\n",
        "print(\"Program continues running after handling exceptions.\")\n"
      ],
      "metadata": {
        "colab": {
          "base_uri": "https://localhost:8080/"
        },
        "id": "XSXjrWV5EwCA",
        "outputId": "46f4053b-a07e-4489-d6df-e53054ea40a7"
      },
      "execution_count": null,
      "outputs": [
        {
          "output_type": "stream",
          "name": "stdout",
          "text": [
            "Accessing list index 5:\n",
            "Caught an IndexError! The list index does not exist.\n",
            "Program continues running after handling exceptions.\n"
          ]
        }
      ]
    },
    {
      "cell_type": "markdown",
      "source": [
        "## Q20 . How would you open a file and read its contents using a context manager in Python?"
      ],
      "metadata": {
        "id": "YSnG1qeyHAUz"
      }
    },
    {
      "cell_type": "code",
      "source": [
        "# Create the file and write some new content\n",
        "with open(\"myfile.txt\", \"w\") as file:\n",
        "    file.write(\"Python is fun!\\nLearning file handling is important.\\nKeep practicing every day.\")\n",
        "\n",
        "# Read the file using a context manager\n",
        "try:\n",
        "    with open(\"myfile.txt\", \"r\") as file:\n",
        "        content = file.read()\n",
        "        print(\"File content:\")\n",
        "        print(content)\n",
        "except FileNotFoundError:\n",
        "    print(\"The file 'myfile.txt' does not exist.\")\n",
        "except Exception as e:\n",
        "    print(f\"An unexpected error occurred: {e}\")\n"
      ],
      "metadata": {
        "colab": {
          "base_uri": "https://localhost:8080/"
        },
        "id": "Y_ax3BGbHPEX",
        "outputId": "33e7400b-191b-4426-8d1b-089e8af8b5cf"
      },
      "execution_count": null,
      "outputs": [
        {
          "output_type": "stream",
          "name": "stdout",
          "text": [
            "File content:\n",
            "Python is fun!\n",
            "Learning file handling is important.\n",
            "Keep practicing every day.\n"
          ]
        }
      ]
    },
    {
      "cell_type": "markdown",
      "source": [
        "## Q21 . Write a Python program that reads a file and prints the number of occurrences of a specific word."
      ],
      "metadata": {
        "id": "Upo-jzraH-oR"
      }
    },
    {
      "cell_type": "code",
      "source": [
        "# Create a sample file with different content\n",
        "with open(\"infofile.txt\", \"w\") as file:\n",
        "    file.write(\n",
        "        \"Python is great.\\n\"\n",
        "        \"Learning Python helps you become a better programmer.\\n\"\n",
        "        \"Practice Python every day to improve your skills.\"\n",
        "    )\n",
        "\n",
        "# Specify the word to count\n",
        "word_to_count = \"Python\"\n",
        "\n",
        "#  Read the file and count occurrences\n",
        "try:\n",
        "    with open(\"infofile.txt\", \"r\") as file:\n",
        "        content = file.read()\n",
        "        # Count occurrences (case-sensitive)\n",
        "        count = content.count(word_to_count)\n",
        "        print(f\"The word '{word_to_count}' occurs {count} times in the file.\")\n",
        "except FileNotFoundError:\n",
        "    print(\"The file 'myfile.txt' does not exist.\")\n",
        "except Exception as e:\n",
        "    print(f\"An unexpected error occurred: {e}\")\n"
      ],
      "metadata": {
        "colab": {
          "base_uri": "https://localhost:8080/"
        },
        "id": "1_VHYUzeIepF",
        "outputId": "0e1678c6-090f-4ad2-a0e5-53aea3cff282"
      },
      "execution_count": null,
      "outputs": [
        {
          "output_type": "stream",
          "name": "stdout",
          "text": [
            "The word 'Python' occurs 3 times in the file.\n"
          ]
        }
      ]
    },
    {
      "cell_type": "markdown",
      "source": [
        "## Q22 . How can you check if a file is empty before attempting to read its contents?"
      ],
      "metadata": {
        "id": "PwpZDBQgopFo"
      }
    },
    {
      "cell_type": "code",
      "source": [
        "file_name = \"myfile.txt\"\n",
        "\n",
        "try:\n",
        "    with open(file_name, \"r\") as file:\n",
        "        content = file.read()\n",
        "        if content:  # If the file has any content\n",
        "            print(\"File content:\")\n",
        "            print(content)\n",
        "        else:\n",
        "            print(f\"The file '{file_name}' is empty.\")\n",
        "except FileNotFoundError:\n",
        "    print(f\"The file '{file_name}' does not exist.\")\n"
      ],
      "metadata": {
        "colab": {
          "base_uri": "https://localhost:8080/"
        },
        "id": "OscGcWP1pTYP",
        "outputId": "b00d9128-f9d1-4495-82d6-4eb25104b4d0"
      },
      "execution_count": 26,
      "outputs": [
        {
          "output_type": "stream",
          "name": "stdout",
          "text": [
            "File content:\n",
            "Python is great.\n",
            "Learning Python helps you become a better programmer.\n",
            "Practice Python every day to improve your skills.\n"
          ]
        }
      ]
    },
    {
      "cell_type": "markdown",
      "source": [
        "## Q23 . Write a Python program that writes to a log file when an error occurs during file handling."
      ],
      "metadata": {
        "id": "W0wV5rKprXcl"
      }
    },
    {
      "cell_type": "code",
      "source": [
        "import logging\n",
        "\n",
        "# Configure logging\n",
        "logging.basicConfig(\n",
        "    filename=\"file_errors.log\",   # Log file name\n",
        "    level=logging.ERROR,          # Log only errors\n",
        "    format=\"%(asctime)s - %(levelname)s - %(message)s\"\n",
        ")\n",
        "\n",
        "file_name = \"myfile.txt\"\n",
        "\n",
        "try:\n",
        "    # Try to open a file that may not exist\n",
        "    with open(file_name, \"r\") as file:\n",
        "        content = file.read()\n",
        "        print(\"File content:\")\n",
        "        print(content)\n",
        "\n",
        "except Exception as e:\n",
        "    # Log the error to the log file\n",
        "    logging.error(f\"An error occurred while handling the file '{file_name}': {e}\")\n",
        "    print(f\"An error occurred. Check 'file_errors.log' for details.\")\n"
      ],
      "metadata": {
        "colab": {
          "base_uri": "https://localhost:8080/"
        },
        "id": "JiuOGbsOr3Db",
        "outputId": "0d36ecaa-a103-45f1-87f6-2cffc36935d5"
      },
      "execution_count": 27,
      "outputs": [
        {
          "output_type": "stream",
          "name": "stdout",
          "text": [
            "File content:\n",
            "Python is great.\n",
            "Learning Python helps you become a better programmer.\n",
            "Practice Python every day to improve your skills.\n"
          ]
        }
      ]
    }
  ],
  "metadata": {
    "colab": {
      "provenance": []
    },
    "kernelspec": {
      "display_name": "Python 3",
      "name": "python3"
    },
    "language_info": {
      "name": "python"
    }
  },
  "nbformat": 4,
  "nbformat_minor": 0
}